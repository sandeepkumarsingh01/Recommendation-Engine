{
 "cells": [
  {
   "cell_type": "markdown",
   "metadata": {},
   "source": [
    "# Installing Packages and Libraries"
   ]
  },
  {
   "cell_type": "code",
   "execution_count": 1,
   "metadata": {},
   "outputs": [
    {
     "name": "stdout",
     "output_type": "stream",
     "text": [
      "Requirement already satisfied: rake_nltk in c:\\anaconda\\lib\\site-packages (1.0.4)\n",
      "Requirement already satisfied: nltk in c:\\anaconda\\lib\\site-packages (from rake_nltk) (3.4.5)\n",
      "Requirement already satisfied: six in c:\\anaconda\\lib\\site-packages (from nltk->rake_nltk) (1.14.0)\n"
     ]
    }
   ],
   "source": [
    "!pip install rake_nltk\n",
    "\n",
    "import pandas as pd\n",
    "from rake_nltk import Rake\n",
    "import numpy as np\n",
    "from sklearn.metrics.pairwise import cosine_similarity\n",
    "from sklearn.feature_extraction.text import CountVectorizer\n",
    "from sklearn.feature_extraction.text import TfidfVectorizer"
   ]
  },
  {
   "cell_type": "markdown",
   "metadata": {},
   "source": [
    "# Ingestion script"
   ]
  },
  {
   "cell_type": "markdown",
   "metadata": {},
   "source": [
    "#Reading data directly from multiple sheets and concatinating it in a single dataframe.\n",
    "Changed names to accumulate clerical errors of leading and trailing spaces.\n",
    "Dropping (un)wanted columns from the data for initial testing.\n",
    "Changing NaN values to blank for now.\n"
   ]
  },
  {
   "cell_type": "code",
   "execution_count": 2,
   "metadata": {
    "scrolled": false
   },
   "outputs": [
    {
     "name": "stdout",
     "output_type": "stream",
     "text": [
      "['i', 'me', 'my', 'myself', 'we', 'our', 'ours', 'ourselves', 'you', \"you're\", \"you've\", \"you'll\", \"you'd\", 'your', 'yours', 'yourself', 'yourselves', 'he', 'him', 'his', 'himself', 'she', \"she's\", 'her', 'hers', 'herself', 'it', \"it's\", 'its', 'itself', 'they', 'them', 'their', 'theirs', 'themselves', 'what', 'which', 'who', 'whom', 'this', 'that', \"that'll\", 'these', 'those', 'am', 'is', 'are', 'was', 'were', 'be', 'been', 'being', 'have', 'has', 'had', 'having', 'do', 'does', 'did', 'doing', 'a', 'an', 'the', 'and', 'but', 'if', 'or', 'because', 'as', 'until', 'while', 'of', 'at', 'by', 'for', 'with', 'about', 'against', 'between', 'into', 'through', 'during', 'before', 'after', 'above', 'below', 'to', 'from', 'up', 'down', 'in', 'out', 'on', 'off', 'over', 'under', 'again', 'further', 'then', 'once', 'here', 'there', 'when', 'where', 'why', 'how', 'all', 'any', 'both', 'each', 'few', 'more', 'most', 'other', 'some', 'such', 'no', 'nor', 'not', 'only', 'own', 'same', 'so', 'than', 'too', 'very', 's', 't', 'can', 'will', 'just', 'don', \"don't\", 'should', \"should've\", 'now', 'd', 'll', 'm', 'o', 're', 've', 'y', 'ain', 'aren', \"aren't\", 'couldn', \"couldn't\", 'didn', \"didn't\", 'doesn', \"doesn't\", 'hadn', \"hadn't\", 'hasn', \"hasn't\", 'haven', \"haven't\", 'isn', \"isn't\", 'ma', 'mightn', \"mightn't\", 'mustn', \"mustn't\", 'needn', \"needn't\", 'shan', \"shan't\", 'shouldn', \"shouldn't\", 'wasn', \"wasn't\", 'weren', \"weren't\", 'won', \"won't\", 'wouldn', \"wouldn't\"]\n"
     ]
    }
   ],
   "source": [
    "menus=pd.concat(pd.read_excel('Chef Menus complete.xlsx',sheet_name=None,na_values=['TBD']),ignore_index=False)\n",
    "menus.reset_index(level=0, inplace=True)\n",
    "menus.rename(columns={'level_0':'chefname',\n",
    "                       'Course 1':'course_1',\n",
    "                       'Course 2':'course_2',\n",
    "                       'Course 3 ':'course_3',\n",
    "                       'Course 4' :'course_4',\n",
    "                       'Menu Description ':'Menu_description',\n",
    "                     'Course 1 Description' : 'Course1_Description', \n",
    "             'Course 1 Description' : 'Course1_Description',\n",
    "                         'Course 2 Description' : 'Course2_Description',\n",
    "                         'Course 3 Description' : 'Course3_Description',\n",
    "                         'Course 4 Description' :  'Course4_Description'},\n",
    "                 inplace=True)\n",
    "from nltk.corpus import stopwords\n",
    "print(stopwords.words('english'))\n",
    "\n",
    "\n",
    "\n",
    "#menus.info(verbose=True)\n",
    "#menus.drop(['chefname','Menu_description','Cuisine Type','Dates available to cook this menu','course_1','course_2','course_3','course_4','course_summary','Price'], axis = 1,inplace = True)\n",
    "menus.drop(['chefname','Menu_description','Cuisine Type','Dates available to cook this menu','Price'], axis = 1,inplace = True) \n",
    "#print(menus.columns)\n",
    "menus = menus.set_index('Menu Name')\n",
    "menus = menus.replace(np.nan, '', regex=True)\n"
   ]
  },
  {
   "cell_type": "markdown",
   "metadata": {},
   "source": [
    "Code below can be used to clean each menu description and create a key words out of each description."
   ]
  },
  {
   "cell_type": "code",
   "execution_count": 3,
   "metadata": {},
   "outputs": [],
   "source": [
    "# menus[\"course_summary\"] = menus[\"course_1\"].astype(str) + menus[\"course_2\"].astype(str) + menus[\"course_3\"].astype(str) + menus[\"course_4\"].astype(str)\n",
    "# menus['Key_words'] = \"\"\n",
    "# menus['key']=''\n",
    "# keys=0\n",
    "# for index,rows in menus.iterrows():\n",
    "#     course_summary = rows['course_summary']\n",
    "#     r = Rake()\n",
    "#     r.extract_keywords_from_text(course_summary)\n",
    "#     key_words_dict_scores = r.get_word_degrees()\n",
    "#     #print(key_words_dict_scores)\n",
    "#     rows['key']=keys\n",
    "#     rows['Key_words'] = list(key_words_dict_scores.keys())\n",
    "#     keys=keys+1"
   ]
  },
  {
   "cell_type": "markdown",
   "metadata": {},
   "source": [
    "# Data Cleaning"
   ]
  },
  {
   "cell_type": "markdown",
   "metadata": {},
   "source": [
    "#Converting all values to comma seperated values & lower case for furthur process"
   ]
  },
  {
   "cell_type": "code",
   "execution_count": 4,
   "metadata": {},
   "outputs": [],
   "source": [
    "menus['course_1']=menus['course_1'].astype(str).map(lambda x: x.lower().split(','))\n",
    "menus['course_2']=menus['course_2'].astype(str).map(lambda x: x.lower().split(','))\n",
    "menus['course_3']=menus['course_3'].astype(str).map(lambda x: x.lower().split(','))\n",
    "menus['course_4']=menus['course_4'].astype(str).map(lambda x: x.lower().split(','))\n",
    "menus['Course1_Description']=menus['Course1_Description'].astype(str).map(lambda x: x.lower().split(','))\n",
    "menus['Course2_Description']=menus['Course2_Description'].astype(str).map(lambda x: x.lower().split(','))\n",
    "menus['Course3_Description']=menus['Course3_Description'].astype(str).map(lambda x: x.lower().split(','))\n",
    "menus['Course4_Description']=menus['Course4_Description'].astype(str).map(lambda x: x.lower().split(','))\n",
    "\n"
   ]
  },
  {
   "cell_type": "markdown",
   "metadata": {},
   "source": [
    "Concatinating all the columns(Course 1 , 2 ,3 ,4) into a single \"bag of words\"."
   ]
  },
  {
   "cell_type": "code",
   "execution_count": 5,
   "metadata": {},
   "outputs": [],
   "source": [
    "menus['Course1_bag_of_words'] = ''\n",
    "columns = ['course_1','Course1_Description']\n",
    "menus['Course1_bag_of_words'] = menus['course_1']+menus['Course1_Description']\n",
    "for index, row in menus.iterrows():\n",
    "    words = ''\n",
    "    for col in columns:\n",
    "        words = words + ' '.join(row[col])+ ' '\n",
    "    row['Course1_bag_of_words'] = words \n",
    "    \n",
    "    \n",
    "columns = ['course_2','Course2_Description']\n",
    "\n",
    "menus['Course2_bag_of_words'] = menus['course_2']+menus['Course2_Description']\n",
    "for index, row in menus.iterrows():\n",
    "    words = ''\n",
    "    for col in columns:\n",
    "        words = words + ' '.join(row[col])+ ' '\n",
    "    row['Course2_bag_of_words'] = words  \n",
    "    \n",
    "columns = ['course_3','Course3_Description']\n",
    "menus['Course3_bag_of_words'] = menus['course_3']+menus['Course3_Description']\n",
    "    \n",
    "for index, row in menus.iterrows():\n",
    "    words = ''\n",
    "    for col in columns:\n",
    "         words = words + ' '.join(row[col])+ ' '\n",
    "    row['Course3_bag_of_words'] = words  \n",
    "    \n",
    "columns = ['course_4','Course4_Description']\n",
    "menus['Course4_bag_of_words'] = menus['course_4']+menus['Course4_Description']\n",
    "for index, row in menus.iterrows():\n",
    "    words = ''\n",
    "    for col in columns:\n",
    "         words = words + ' '.join(row[col])+ ' '\n",
    "    row['Course4_bag_of_words'] = words  \n",
    "\n",
    "menus.drop(['course_1','course_2','course_3','course_4','Course1_Description','Course2_Description','Course3_Description','Course4_Description'],axis=1,inplace = True)\n"
   ]
  },
  {
   "cell_type": "markdown",
   "metadata": {},
   "source": [
    "# Recommendation Algorithm"
   ]
  },
  {
   "cell_type": "markdown",
   "metadata": {},
   "source": [
    "Count vectorizer is used to convert a collection of text documents to a vector of term/token counts. The reason for not using TF-IDF here because TF-IDF reduces the importance of a word if it occurs frequently.\n",
    "\n",
    "Cosine similarity is a metric used to measure how similar the documents are irrespective of their size. Mathematically, it measures the cosine of the angle between two vectors projected in a multi-dimensional space. \n",
    "\n",
    "Forming a similarity matrix here to get similarity scores."
   ]
  },
  {
   "cell_type": "code",
   "execution_count": 9,
   "metadata": {},
   "outputs": [],
   "source": [
    "course_1_weight=0.2\n",
    "course_2_weight=0.3\n",
    "course_3_weight=0.3\n",
    "course_4_weight=0.2\n"
   ]
  },
  {
   "cell_type": "code",
   "execution_count": 10,
   "metadata": {},
   "outputs": [],
   "source": [
    "count_CV = CountVectorizer(analyzer='word', ngram_range=(1, 3), min_df=0, stop_words='english')\n",
    "count_matrix_CV_1 = count_CV.fit_transform(menus['Course1_bag_of_words']) \n",
    "count_matrix_CV_2 = count_CV.fit_transform(menus['Course2_bag_of_words'])\n",
    "count_matrix_CV_3 = count_CV.fit_transform(menus['Course3_bag_of_words'])\n",
    "count_matrix_CV_4 = count_CV.fit_transform(menus['Course4_bag_of_words'])\n"
   ]
  },
  {
   "cell_type": "code",
   "execution_count": 11,
   "metadata": {},
   "outputs": [],
   "source": [
    "count_IDF = TfidfVectorizer(analyzer='word', ngram_range=(1, 3), min_df=0, stop_words='english')\n",
    "count_matrix_IDF_1 = count_IDF.fit_transform(menus['Course1_bag_of_words']) \n",
    "count_matrix_IDF_2 = count_IDF.fit_transform(menus['Course2_bag_of_words'])\n",
    "count_matrix_IDF_3 = count_IDF.fit_transform(menus['Course3_bag_of_words'])\n",
    "count_matrix_IDF_4 = count_IDF.fit_transform(menus['Course4_bag_of_words'])"
   ]
  },
  {
   "cell_type": "code",
   "execution_count": 12,
   "metadata": {
    "scrolled": true
   },
   "outputs": [
    {
     "data": {
      "text/plain": [
       "array([[0.8       , 0.02188236, 0.01762246, ..., 0.        , 0.        ,\n",
       "        0.        ],\n",
       "       [0.02188236, 1.        , 0.10894716, ..., 0.        , 0.        ,\n",
       "        0.        ],\n",
       "       [0.01762246, 0.10894716, 1.        , ..., 0.        , 0.        ,\n",
       "        0.        ],\n",
       "       ...,\n",
       "       [0.        , 0.        , 0.        , ..., 0.6       , 0.        ,\n",
       "        0.14142136],\n",
       "       [0.        , 0.        , 0.        , ..., 0.        , 1.        ,\n",
       "        0.        ],\n",
       "       [0.        , 0.        , 0.        , ..., 0.14142136, 0.        ,\n",
       "        0.3       ]])"
      ]
     },
     "execution_count": 12,
     "metadata": {},
     "output_type": "execute_result"
    }
   ],
   "source": [
    "cosine_sim_CV_1 = cosine_similarity(count_matrix_CV_1, count_matrix_CV_1) * course_1_weight\n",
    "cosine_sim_CV_2 = cosine_similarity(count_matrix_CV_2, count_matrix_CV_2) * course_2_weight\n",
    "cosine_sim_CV_3 = cosine_similarity(count_matrix_CV_3, count_matrix_CV_3) * course_3_weight\n",
    "cosine_sim_CV_4 = cosine_similarity(count_matrix_CV_4, count_matrix_CV_4) * course_4_weight\n",
    "\n",
    "cosine_sim_CV = cosine_sim_CV_1 + cosine_sim_CV_2 + cosine_sim_CV_3 + cosine_sim_CV_4\n",
    "indices = pd.Series(menus.index)\n",
    "cosine_sim_CV"
   ]
  },
  {
   "cell_type": "code",
   "execution_count": 15,
   "metadata": {},
   "outputs": [
    {
     "data": {
      "text/plain": [
       "array([[0.8       , 0.00798626, 0.00431706, ..., 0.        , 0.        ,\n",
       "        0.        ],\n",
       "       [0.00798626, 1.        , 0.04121454, ..., 0.        , 0.        ,\n",
       "        0.        ],\n",
       "       [0.00431706, 0.04121454, 1.        , ..., 0.        , 0.        ,\n",
       "        0.        ],\n",
       "       ...,\n",
       "       [0.        , 0.        , 0.        , ..., 0.6       , 0.        ,\n",
       "        0.12417142],\n",
       "       [0.        , 0.        , 0.        , ..., 0.        , 1.        ,\n",
       "        0.        ],\n",
       "       [0.        , 0.        , 0.        , ..., 0.12417142, 0.        ,\n",
       "        0.3       ]])"
      ]
     },
     "execution_count": 15,
     "metadata": {},
     "output_type": "execute_result"
    }
   ],
   "source": [
    "cosine_sim_IDF_1 = cosine_similarity(count_matrix_IDF_1, count_matrix_IDF_1) * course_1_weight\n",
    "cosine_sim_IDF_2 = cosine_similarity(count_matrix_IDF_2, count_matrix_IDF_2) * course_2_weight\n",
    "cosine_sim_IDF_3 = cosine_similarity(count_matrix_IDF_3, count_matrix_IDF_3) * course_3_weight\n",
    "cosine_sim_IDF_4 = cosine_similarity(count_matrix_IDF_4, count_matrix_IDF_4) * course_4_weight\n",
    "\n",
    "cosine_sim_IDF = cosine_sim_IDF_1 + cosine_sim_IDF_2 + cosine_sim_IDF_3 + cosine_sim_IDF_4\n",
    "cosine_sim_IDF"
   ]
  },
  {
   "cell_type": "markdown",
   "metadata": {},
   "source": [
    "# Creating a function to return top recommended menu items.\n"
   ]
  },
  {
   "cell_type": "code",
   "execution_count": 22,
   "metadata": {},
   "outputs": [],
   "source": [
    "def recommendations(menu, top, weight_TFIDF):\n",
    "    # Creating an empty recommended menu list\n",
    "    weight_CV=1-weight_TFIDF\n",
    "    cosine_sim_mixed = cosine_sim_IDF * weight_TFIDF + cosine_sim_CV * weight_CV\n",
    "    recommended_menu = []\n",
    "    # gettin the index of provided user menu that matches the menu\n",
    "    idx = indices[indices == menu].index[0]\n",
    "    # creating a Series with the similarity scores in descending order\n",
    "    score_series = pd.Series(cosine_sim_mixed[idx]).sort_values(ascending = False)\n",
    "    # getting the indexes of the 3 most similar menu\n",
    "    top_3_indexes = list(score_series.iloc[1:top+1].index)\n",
    "    print('Top '+str(top)+' recommendation for '+menu+'------->')\n",
    "    # populating the list with the titles of the best 3 matching menus\n",
    "    for i in top_3_indexes:\n",
    "        recommended_menu.append(list(menus.index)[i])\n",
    "        \n",
    "    return recommended_menu\n"
   ]
  },
  {
   "cell_type": "markdown",
   "metadata": {},
   "source": [
    "# Testing"
   ]
  },
  {
   "cell_type": "markdown",
   "metadata": {},
   "source": [
    "Testing above function with dummy data."
   ]
  },
  {
   "cell_type": "code",
   "execution_count": 27,
   "metadata": {},
   "outputs": [
    {
     "name": "stdout",
     "output_type": "stream",
     "text": [
      "Top 3 recommendation for Everything Seafood------->\n"
     ]
    },
    {
     "data": {
      "text/plain": [
       "['gt', 'For the Love of Vegetable', 'Mediterranean']"
      ]
     },
     "execution_count": 27,
     "metadata": {},
     "output_type": "execute_result"
    }
   ],
   "source": [
    "recommendations(menu='Everything Seafood',top=3,weight_TFIDF= 0.5)"
   ]
  },
  {
   "cell_type": "code",
   "execution_count": 28,
   "metadata": {},
   "outputs": [
    {
     "name": "stdout",
     "output_type": "stream",
     "text": [
      "Top 3 recommendation for Pasta ------->\n"
     ]
    },
    {
     "data": {
      "text/plain": [
       "['Mediterranean', 'gt', 'Everything Seafood']"
      ]
     },
     "execution_count": 28,
     "metadata": {},
     "output_type": "execute_result"
    }
   ],
   "source": [
    "recommendations(menu='Pasta ',top=3,weight_TFIDF= 0.5)"
   ]
  },
  {
   "cell_type": "code",
   "execution_count": null,
   "metadata": {},
   "outputs": [],
   "source": []
  }
 ],
 "metadata": {
  "kernelspec": {
   "display_name": "Python 3",
   "language": "python",
   "name": "python3"
  },
  "language_info": {
   "codemirror_mode": {
    "name": "ipython",
    "version": 3
   },
   "file_extension": ".py",
   "mimetype": "text/x-python",
   "name": "python",
   "nbconvert_exporter": "python",
   "pygments_lexer": "ipython3",
   "version": "3.7.6"
  }
 },
 "nbformat": 4,
 "nbformat_minor": 4
}
