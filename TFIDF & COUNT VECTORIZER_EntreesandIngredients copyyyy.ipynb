{
 "cells": [
  {
   "cell_type": "markdown",
   "metadata": {},
   "source": [
    "# Installing Packages and Libraries"
   ]
  },
  {
   "cell_type": "code",
   "execution_count": 107,
   "metadata": {},
   "outputs": [
    {
     "name": "stdout",
     "output_type": "stream",
     "text": [
      "Requirement already satisfied: rake_nltk in c:\\anaconda\\lib\\site-packages (1.0.4)\n",
      "Requirement already satisfied: nltk in c:\\anaconda\\lib\\site-packages (from rake_nltk) (3.4.5)\n",
      "Requirement already satisfied: six in c:\\anaconda\\lib\\site-packages (from nltk->rake_nltk) (1.14.0)\n"
     ]
    }
   ],
   "source": [
    "!pip install rake_nltk\n",
    "\n",
    "import pandas as pd\n",
    "from rake_nltk import Rake\n",
    "import numpy as np\n",
    "from sklearn.metrics.pairwise import cosine_similarity\n",
    "from sklearn.feature_extraction.text import CountVectorizer\n",
    "from sklearn.feature_extraction.text import TfidfVectorizer"
   ]
  },
  {
   "cell_type": "code",
   "execution_count": 111,
   "metadata": {},
   "outputs": [
    {
     "data": {
      "text/html": [
       "<div>\n",
       "<style scoped>\n",
       "    .dataframe tbody tr th:only-of-type {\n",
       "        vertical-align: middle;\n",
       "    }\n",
       "\n",
       "    .dataframe tbody tr th {\n",
       "        vertical-align: top;\n",
       "    }\n",
       "\n",
       "    .dataframe thead th {\n",
       "        text-align: right;\n",
       "    }\n",
       "</style>\n",
       "<table border=\"1\" class=\"dataframe\">\n",
       "  <thead>\n",
       "    <tr style=\"text-align: right;\">\n",
       "      <th></th>\n",
       "      <th>Item_Name</th>\n",
       "      <th>Item_Description</th>\n",
       "    </tr>\n",
       "  </thead>\n",
       "  <tbody>\n",
       "    <tr>\n",
       "      <th>0</th>\n",
       "      <td>Chicken Tenders</td>\n",
       "      <td>Chicken Tenders Snacks  Sides Food</td>\n",
       "    </tr>\n",
       "    <tr>\n",
       "      <th>1</th>\n",
       "      <td>Chicken Caesar Pasta Salad</td>\n",
       "      <td>Chicken Caesar Pasta Salad Salads Food</td>\n",
       "    </tr>\n",
       "    <tr>\n",
       "      <th>2</th>\n",
       "      <td>Mediterranean Pasta Salad</td>\n",
       "      <td>Mediterranean Pasta Salad Salads Food</td>\n",
       "    </tr>\n",
       "    <tr>\n",
       "      <th>3</th>\n",
       "      <td>Chicken Dippers</td>\n",
       "      <td>Chicken Dippers Snacks  Sides Food</td>\n",
       "    </tr>\n",
       "    <tr>\n",
       "      <th>4</th>\n",
       "      <td>Taquitos</td>\n",
       "      <td>Taquitos Taquitos Food Choice of Monterey Jack...</td>\n",
       "    </tr>\n",
       "    <tr>\n",
       "      <th>...</th>\n",
       "      <td>...</td>\n",
       "      <td>...</td>\n",
       "    </tr>\n",
       "    <tr>\n",
       "      <th>9128</th>\n",
       "      <td>Buffalo Kiddie Fingerz</td>\n",
       "      <td>Buffalo Kiddie Fingerz w Buffalo Chicken Finge...</td>\n",
       "    </tr>\n",
       "    <tr>\n",
       "      <th>9129</th>\n",
       "      <td>Zax Pak Regular</td>\n",
       "      <td>Zax Pak w 12 Chicken Fingers Zax Sauce 1 Porti...</td>\n",
       "    </tr>\n",
       "    <tr>\n",
       "      <th>9130</th>\n",
       "      <td>Zax Pak Large</td>\n",
       "      <td>Buffalo Zax Pak w 18 Buffalo Chicken Fingers R...</td>\n",
       "    </tr>\n",
       "    <tr>\n",
       "      <th>9131</th>\n",
       "      <td>Buffalo Zax Pak Regular</td>\n",
       "      <td>Buffalo Zax Pak w 12 Buffalo Chicken Fingers R...</td>\n",
       "    </tr>\n",
       "    <tr>\n",
       "      <th>9132</th>\n",
       "      <td>Buffalo Zax Pak Large</td>\n",
       "      <td>Buffalo Zax Pak w 18 Buffalo Chicken Fingers R...</td>\n",
       "    </tr>\n",
       "  </tbody>\n",
       "</table>\n",
       "<p>9133 rows × 2 columns</p>\n",
       "</div>"
      ],
      "text/plain": [
       "                       Item_Name  \\\n",
       "0                Chicken Tenders   \n",
       "1     Chicken Caesar Pasta Salad   \n",
       "2      Mediterranean Pasta Salad   \n",
       "3                Chicken Dippers   \n",
       "4                       Taquitos   \n",
       "...                          ...   \n",
       "9128      Buffalo Kiddie Fingerz   \n",
       "9129             Zax Pak Regular   \n",
       "9130               Zax Pak Large   \n",
       "9131     Buffalo Zax Pak Regular   \n",
       "9132       Buffalo Zax Pak Large   \n",
       "\n",
       "                                       Item_Description  \n",
       "0                    Chicken Tenders Snacks  Sides Food  \n",
       "1                Chicken Caesar Pasta Salad Salads Food  \n",
       "2                 Mediterranean Pasta Salad Salads Food  \n",
       "3                    Chicken Dippers Snacks  Sides Food  \n",
       "4     Taquitos Taquitos Food Choice of Monterey Jack...  \n",
       "...                                                 ...  \n",
       "9128  Buffalo Kiddie Fingerz w Buffalo Chicken Finge...  \n",
       "9129  Zax Pak w 12 Chicken Fingers Zax Sauce 1 Porti...  \n",
       "9130  Buffalo Zax Pak w 18 Buffalo Chicken Fingers R...  \n",
       "9131  Buffalo Zax Pak w 12 Buffalo Chicken Fingers R...  \n",
       "9132  Buffalo Zax Pak w 18 Buffalo Chicken Fingers R...  \n",
       "\n",
       "[9133 rows x 2 columns]"
      ]
     },
     "execution_count": 111,
     "metadata": {},
     "output_type": "execute_result"
    }
   ],
   "source": [
    "menus = pd.read_excel('Testdata_Entrees.xlsx',sheet_name='Sheet1',na_values=['TBD'])\n",
    "menus.drop(['Menu_Id'],axis=1,inplace = True)\n",
    "menus"
   ]
  },
  {
   "cell_type": "markdown",
   "metadata": {},
   "source": [
    "# Ingestion script"
   ]
  },
  {
   "cell_type": "markdown",
   "metadata": {},
   "source": [
    "#Reading data directly from multiple sheets and concatinating it in a single dataframe.\n",
    "Changed names to accumulate clerical errors of leading and trailing spaces.\n",
    "Dropping (un)wanted columns from the data for initial testing.\n",
    "Changing NaN values to blank for now.\n"
   ]
  },
  {
   "cell_type": "code",
   "execution_count": 112,
   "metadata": {
    "scrolled": false
   },
   "outputs": [
    {
     "data": {
      "text/html": [
       "<div>\n",
       "<style scoped>\n",
       "    .dataframe tbody tr th:only-of-type {\n",
       "        vertical-align: middle;\n",
       "    }\n",
       "\n",
       "    .dataframe tbody tr th {\n",
       "        vertical-align: top;\n",
       "    }\n",
       "\n",
       "    .dataframe thead th {\n",
       "        text-align: right;\n",
       "    }\n",
       "</style>\n",
       "<table border=\"1\" class=\"dataframe\">\n",
       "  <thead>\n",
       "    <tr style=\"text-align: right;\">\n",
       "      <th></th>\n",
       "      <th>Item_Name</th>\n",
       "      <th>Item_Description</th>\n",
       "    </tr>\n",
       "    <tr>\n",
       "      <th>menu_name</th>\n",
       "      <th></th>\n",
       "      <th></th>\n",
       "    </tr>\n",
       "  </thead>\n",
       "  <tbody>\n",
       "    <tr>\n",
       "      <th>Chicken Tenders</th>\n",
       "      <td>Chicken Tenders</td>\n",
       "      <td>Chicken Tenders Snacks  Sides Food</td>\n",
       "    </tr>\n",
       "    <tr>\n",
       "      <th>Chicken Caesar Pasta Salad</th>\n",
       "      <td>Chicken Caesar Pasta Salad</td>\n",
       "      <td>Chicken Caesar Pasta Salad Salads Food</td>\n",
       "    </tr>\n",
       "    <tr>\n",
       "      <th>Mediterranean Pasta Salad</th>\n",
       "      <td>Mediterranean Pasta Salad</td>\n",
       "      <td>Mediterranean Pasta Salad Salads Food</td>\n",
       "    </tr>\n",
       "    <tr>\n",
       "      <th>Chicken Dippers</th>\n",
       "      <td>Chicken Dippers</td>\n",
       "      <td>Chicken Dippers Snacks  Sides Food</td>\n",
       "    </tr>\n",
       "    <tr>\n",
       "      <th>Taquitos</th>\n",
       "      <td>Taquitos</td>\n",
       "      <td>Taquitos Taquitos Food Choice of Monterey Jack...</td>\n",
       "    </tr>\n",
       "    <tr>\n",
       "      <th>...</th>\n",
       "      <td>...</td>\n",
       "      <td>...</td>\n",
       "    </tr>\n",
       "    <tr>\n",
       "      <th>Buffalo Kiddie Fingerz</th>\n",
       "      <td>Buffalo Kiddie Fingerz</td>\n",
       "      <td>Buffalo Kiddie Fingerz w Buffalo Chicken Finge...</td>\n",
       "    </tr>\n",
       "    <tr>\n",
       "      <th>Zax Pak Regular</th>\n",
       "      <td>Zax Pak Regular</td>\n",
       "      <td>Zax Pak w 12 Chicken Fingers Zax Sauce 1 Porti...</td>\n",
       "    </tr>\n",
       "    <tr>\n",
       "      <th>Zax Pak Large</th>\n",
       "      <td>Zax Pak Large</td>\n",
       "      <td>Buffalo Zax Pak w 18 Buffalo Chicken Fingers R...</td>\n",
       "    </tr>\n",
       "    <tr>\n",
       "      <th>Buffalo Zax Pak Regular</th>\n",
       "      <td>Buffalo Zax Pak Regular</td>\n",
       "      <td>Buffalo Zax Pak w 12 Buffalo Chicken Fingers R...</td>\n",
       "    </tr>\n",
       "    <tr>\n",
       "      <th>Buffalo Zax Pak Large</th>\n",
       "      <td>Buffalo Zax Pak Large</td>\n",
       "      <td>Buffalo Zax Pak w 18 Buffalo Chicken Fingers R...</td>\n",
       "    </tr>\n",
       "  </tbody>\n",
       "</table>\n",
       "<p>9133 rows × 2 columns</p>\n",
       "</div>"
      ],
      "text/plain": [
       "                                             Item_Name  \\\n",
       "menu_name                                                \n",
       "Chicken Tenders                        Chicken Tenders   \n",
       "Chicken Caesar Pasta Salad  Chicken Caesar Pasta Salad   \n",
       "Mediterranean Pasta Salad    Mediterranean Pasta Salad   \n",
       "Chicken Dippers                        Chicken Dippers   \n",
       "Taquitos                                      Taquitos   \n",
       "...                                                ...   \n",
       "Buffalo Kiddie Fingerz          Buffalo Kiddie Fingerz   \n",
       "Zax Pak Regular                        Zax Pak Regular   \n",
       "Zax Pak Large                            Zax Pak Large   \n",
       "Buffalo Zax Pak Regular        Buffalo Zax Pak Regular   \n",
       "Buffalo Zax Pak Large            Buffalo Zax Pak Large   \n",
       "\n",
       "                                                             Item_Description  \n",
       "menu_name                                                                      \n",
       "Chicken Tenders                            Chicken Tenders Snacks  Sides Food  \n",
       "Chicken Caesar Pasta Salad             Chicken Caesar Pasta Salad Salads Food  \n",
       "Mediterranean Pasta Salad               Mediterranean Pasta Salad Salads Food  \n",
       "Chicken Dippers                            Chicken Dippers Snacks  Sides Food  \n",
       "Taquitos                    Taquitos Taquitos Food Choice of Monterey Jack...  \n",
       "...                                                                       ...  \n",
       "Buffalo Kiddie Fingerz      Buffalo Kiddie Fingerz w Buffalo Chicken Finge...  \n",
       "Zax Pak Regular             Zax Pak w 12 Chicken Fingers Zax Sauce 1 Porti...  \n",
       "Zax Pak Large               Buffalo Zax Pak w 18 Buffalo Chicken Fingers R...  \n",
       "Buffalo Zax Pak Regular     Buffalo Zax Pak w 12 Buffalo Chicken Fingers R...  \n",
       "Buffalo Zax Pak Large       Buffalo Zax Pak w 18 Buffalo Chicken Fingers R...  \n",
       "\n",
       "[9133 rows x 2 columns]"
      ]
     },
     "execution_count": 112,
     "metadata": {},
     "output_type": "execute_result"
    }
   ],
   "source": [
    "# menus=pd.concat(pd.read_excel('Chef Menus complete.xlsx',sheet_name=None,na_values=['TBD']),ignore_index=False)\n",
    "# menus.reset_index(level=0, inplace=True)\n",
    "# menus.rename(columns={'level_0':'chefname',\n",
    "#                        'Course 1':'course_1',\n",
    "#                        'Course 2':'course_2',\n",
    "#                        'Course 3 ':'course_3',\n",
    "#                        'Course 4' :'course_4',\n",
    "#                        'Menu Description ':'Menu_description',\n",
    "#                      'Course 1 Description' : 'Course1_Description', \n",
    "#              'Course 1 Description' : 'Course1_Description',\n",
    "#                          'Course 2 Description' : 'Course2_Description',\n",
    "#                          'Course 3 Description' : 'Course3_Description',\n",
    "#                          'Course 4 Description' :  'Course4_Description'},\n",
    "#                  inplace=True)\n",
    "# from nltk.corpus import stopwords\n",
    "# print(stopwords.words('english'))\n",
    "\n",
    "\n",
    "\n",
    "# menus.info(verbose=True)\n",
    "# #menus.drop(['chefname','Menu_description','Cuisine Type','Dates available to cook this menu','course_1','course_2','course_3','course_4','course_summary','Price'], axis = 1,inplace = True)\n",
    "# menus.drop(['chefname','Menu_description','Cuisine Type','Dates available to cook this menu','Price'], axis = 1,inplace = True) \n",
    "# #print(menus.columns)\n",
    "menus['menu_name'] = menus['Item_Name']\n",
    "menus = menus.set_index('menu_name')\n",
    "menus = menus.replace(np.nan, '', regex=True)\n",
    "menus"
   ]
  },
  {
   "cell_type": "markdown",
   "metadata": {},
   "source": [
    "Code below can be used to clean each menu description and create a key words out of each description."
   ]
  },
  {
   "cell_type": "code",
   "execution_count": 113,
   "metadata": {},
   "outputs": [],
   "source": [
    "# menus[\"course_summary\"] = menus[\"course_1\"].astype(str) + menus[\"course_2\"].astype(str) + menus[\"course_3\"].astype(str) + menus[\"course_4\"].astype(str)\n",
    "# menus['Key_words'] = \"\"\n",
    "# menus['key']=''\n",
    "# keys=0\n",
    "# for index,rows in menus.iterrows():\n",
    "#     course_summary = rows['course_summary']\n",
    "#     r = Rake()\n",
    "#     r.extract_keywords_from_text(course_summary)\n",
    "#     key_words_dict_scores = r.get_word_degrees()\n",
    "#     #print(key_words_dict_scores)\n",
    "#     rows['key']=keys\n",
    "#     rows['Key_words'] = list(key_words_dict_scores.keys())\n",
    "#     keys=keys+1"
   ]
  },
  {
   "cell_type": "markdown",
   "metadata": {},
   "source": [
    "# Data Cleaning"
   ]
  },
  {
   "cell_type": "markdown",
   "metadata": {},
   "source": [
    "#Converting all values to comma seperated values & lower case for furthur process"
   ]
  },
  {
   "cell_type": "code",
   "execution_count": 114,
   "metadata": {},
   "outputs": [
    {
     "data": {
      "text/html": [
       "<div>\n",
       "<style scoped>\n",
       "    .dataframe tbody tr th:only-of-type {\n",
       "        vertical-align: middle;\n",
       "    }\n",
       "\n",
       "    .dataframe tbody tr th {\n",
       "        vertical-align: top;\n",
       "    }\n",
       "\n",
       "    .dataframe thead th {\n",
       "        text-align: right;\n",
       "    }\n",
       "</style>\n",
       "<table border=\"1\" class=\"dataframe\">\n",
       "  <thead>\n",
       "    <tr style=\"text-align: right;\">\n",
       "      <th></th>\n",
       "      <th>Item_Name</th>\n",
       "      <th>Item_Description</th>\n",
       "    </tr>\n",
       "    <tr>\n",
       "      <th>menu_name</th>\n",
       "      <th></th>\n",
       "      <th></th>\n",
       "    </tr>\n",
       "  </thead>\n",
       "  <tbody>\n",
       "    <tr>\n",
       "      <th>Chicken Tenders</th>\n",
       "      <td>[chicken, tenders]</td>\n",
       "      <td>[chicken, tenders, snacks, , sides, food]</td>\n",
       "    </tr>\n",
       "    <tr>\n",
       "      <th>Chicken Caesar Pasta Salad</th>\n",
       "      <td>[chicken, caesar, pasta, salad]</td>\n",
       "      <td>[chicken, caesar, pasta, salad, salads, food]</td>\n",
       "    </tr>\n",
       "    <tr>\n",
       "      <th>Mediterranean Pasta Salad</th>\n",
       "      <td>[mediterranean, pasta, salad]</td>\n",
       "      <td>[mediterranean, pasta, salad, salads, food]</td>\n",
       "    </tr>\n",
       "    <tr>\n",
       "      <th>Chicken Dippers</th>\n",
       "      <td>[chicken, dippers]</td>\n",
       "      <td>[chicken, dippers, snacks, , sides, food]</td>\n",
       "    </tr>\n",
       "    <tr>\n",
       "      <th>Taquitos</th>\n",
       "      <td>[taquitos]</td>\n",
       "      <td>[taquitos, taquitos, food, choice, of, montere...</td>\n",
       "    </tr>\n",
       "  </tbody>\n",
       "</table>\n",
       "</div>"
      ],
      "text/plain": [
       "                                                  Item_Name  \\\n",
       "menu_name                                                     \n",
       "Chicken Tenders                          [chicken, tenders]   \n",
       "Chicken Caesar Pasta Salad  [chicken, caesar, pasta, salad]   \n",
       "Mediterranean Pasta Salad     [mediterranean, pasta, salad]   \n",
       "Chicken Dippers                          [chicken, dippers]   \n",
       "Taquitos                                         [taquitos]   \n",
       "\n",
       "                                                             Item_Description  \n",
       "menu_name                                                                      \n",
       "Chicken Tenders                     [chicken, tenders, snacks, , sides, food]  \n",
       "Chicken Caesar Pasta Salad      [chicken, caesar, pasta, salad, salads, food]  \n",
       "Mediterranean Pasta Salad         [mediterranean, pasta, salad, salads, food]  \n",
       "Chicken Dippers                     [chicken, dippers, snacks, , sides, food]  \n",
       "Taquitos                    [taquitos, taquitos, food, choice, of, montere...  "
      ]
     },
     "execution_count": 114,
     "metadata": {},
     "output_type": "execute_result"
    }
   ],
   "source": [
    "menus['Item_Name']=menus['Item_Name'].astype(str).map(lambda x: x.lower().split(' '))\n",
    "menus['Item_Description']=menus['Item_Description'].astype(str).map(lambda x: x.lower().split(' '))\n",
    "# menus['course_3']=menus['course_3'].astype(str).map(lambda x: x.lower().split(','))\n",
    "# menus['course_4']=menus['course_4'].astype(str).map(lambda x: x.lower().split(','))\n",
    "# menus['Course1_Description']=menus['Course1_Description'].astype(str).map(lambda x: x.lower().split(','))\n",
    "# menus['Course2_Description']=menus['Course2_Description'].astype(str).map(lambda x: x.lower().split(','))\n",
    "# menus['Course3_Description']=menus['Course3_Description'].astype(str).map(lambda x: x.lower().split(','))\n",
    "# menus['Course4_Description']=menus['Course4_Description'].astype(str).map(lambda x: x.lower().split(','))\n",
    "menus.head()"
   ]
  },
  {
   "cell_type": "markdown",
   "metadata": {},
   "source": [
    "Concatinating all the columns(Course 1 , 2 ,3 ,4) into a single \"bag of words\"."
   ]
  },
  {
   "cell_type": "code",
   "execution_count": 115,
   "metadata": {},
   "outputs": [
    {
     "data": {
      "text/html": [
       "<div>\n",
       "<style scoped>\n",
       "    .dataframe tbody tr th:only-of-type {\n",
       "        vertical-align: middle;\n",
       "    }\n",
       "\n",
       "    .dataframe tbody tr th {\n",
       "        vertical-align: top;\n",
       "    }\n",
       "\n",
       "    .dataframe thead th {\n",
       "        text-align: right;\n",
       "    }\n",
       "</style>\n",
       "<table border=\"1\" class=\"dataframe\">\n",
       "  <thead>\n",
       "    <tr style=\"text-align: right;\">\n",
       "      <th></th>\n",
       "      <th>Item_bag_of_words</th>\n",
       "    </tr>\n",
       "    <tr>\n",
       "      <th>menu_name</th>\n",
       "      <th></th>\n",
       "    </tr>\n",
       "  </thead>\n",
       "  <tbody>\n",
       "    <tr>\n",
       "      <th>Chicken Tenders</th>\n",
       "      <td>chicken tenders chicken tenders snacks  sides ...</td>\n",
       "    </tr>\n",
       "    <tr>\n",
       "      <th>Chicken Caesar Pasta Salad</th>\n",
       "      <td>chicken caesar pasta salad chicken caesar past...</td>\n",
       "    </tr>\n",
       "    <tr>\n",
       "      <th>Mediterranean Pasta Salad</th>\n",
       "      <td>mediterranean pasta salad mediterranean pasta ...</td>\n",
       "    </tr>\n",
       "    <tr>\n",
       "      <th>Chicken Dippers</th>\n",
       "      <td>chicken dippers chicken dippers snacks  sides ...</td>\n",
       "    </tr>\n",
       "    <tr>\n",
       "      <th>Taquitos</th>\n",
       "      <td>taquitos taquitos taquitos food choice of mont...</td>\n",
       "    </tr>\n",
       "    <tr>\n",
       "      <th>...</th>\n",
       "      <td>...</td>\n",
       "    </tr>\n",
       "    <tr>\n",
       "      <th>Buffalo Kiddie Fingerz</th>\n",
       "      <td>buffalo kiddie fingerz buffalo kiddie fingerz ...</td>\n",
       "    </tr>\n",
       "    <tr>\n",
       "      <th>Zax Pak Regular</th>\n",
       "      <td>zax pak regular zax pak w 12 chicken fingers z...</td>\n",
       "    </tr>\n",
       "    <tr>\n",
       "      <th>Zax Pak Large</th>\n",
       "      <td>zax pak large buffalo zax pak w 18 buffalo chi...</td>\n",
       "    </tr>\n",
       "    <tr>\n",
       "      <th>Buffalo Zax Pak Regular</th>\n",
       "      <td>buffalo zax pak regular buffalo zax pak w 12 b...</td>\n",
       "    </tr>\n",
       "    <tr>\n",
       "      <th>Buffalo Zax Pak Large</th>\n",
       "      <td>buffalo zax pak large buffalo zax pak w 18 buf...</td>\n",
       "    </tr>\n",
       "  </tbody>\n",
       "</table>\n",
       "<p>9133 rows × 1 columns</p>\n",
       "</div>"
      ],
      "text/plain": [
       "                                                            Item_bag_of_words\n",
       "menu_name                                                                    \n",
       "Chicken Tenders             chicken tenders chicken tenders snacks  sides ...\n",
       "Chicken Caesar Pasta Salad  chicken caesar pasta salad chicken caesar past...\n",
       "Mediterranean Pasta Salad   mediterranean pasta salad mediterranean pasta ...\n",
       "Chicken Dippers             chicken dippers chicken dippers snacks  sides ...\n",
       "Taquitos                    taquitos taquitos taquitos food choice of mont...\n",
       "...                                                                       ...\n",
       "Buffalo Kiddie Fingerz      buffalo kiddie fingerz buffalo kiddie fingerz ...\n",
       "Zax Pak Regular             zax pak regular zax pak w 12 chicken fingers z...\n",
       "Zax Pak Large               zax pak large buffalo zax pak w 18 buffalo chi...\n",
       "Buffalo Zax Pak Regular     buffalo zax pak regular buffalo zax pak w 12 b...\n",
       "Buffalo Zax Pak Large       buffalo zax pak large buffalo zax pak w 18 buf...\n",
       "\n",
       "[9133 rows x 1 columns]"
      ]
     },
     "execution_count": 115,
     "metadata": {},
     "output_type": "execute_result"
    }
   ],
   "source": [
    "menus['Item_bag_of_words'] = ''\n",
    "columns = ['Item_Name','Item_Description']\n",
    "#menus['Item_bag_of_words'] = menus['Item_Name']+menus['Course1_Description']\n",
    "for index, row in menus.iterrows():\n",
    "    words = ''\n",
    "    for col in columns:\n",
    "        words = words + ' '.join(row[col])+ ' '\n",
    "    row['Item_bag_of_words'] = words \n",
    "    \n",
    "    \n",
    "# columns = ['course_2','Course2_Description']\n",
    "\n",
    "# menus['Course2_bag_of_words'] = menus['course_2']+menus['Course2_Description']\n",
    "# for index, row in menus.iterrows():\n",
    "#     words = ''\n",
    "#     for col in columns:\n",
    "#         words = words + ' '.join(row[col])+ ' '\n",
    "#     row['Course2_bag_of_words'] = words  \n",
    "    \n",
    "# columns = ['course_3','Course3_Description']\n",
    "# menus['Course3_bag_of_words'] = menus['course_3']+menus['Course3_Description']\n",
    "    \n",
    "# for index, row in menus.iterrows():\n",
    "#     words = ''\n",
    "#     for col in columns:\n",
    "#          words = words + ' '.join(row[col])+ ' '\n",
    "#     row['Course3_bag_of_words'] = words  \n",
    "    \n",
    "# columns = ['course_4','Course4_Description']\n",
    "# menus['Course4_bag_of_words'] = menus['course_4']+menus['Course4_Description']\n",
    "# for index, row in menus.iterrows():\n",
    "#     words = ''\n",
    "#     for col in columns:\n",
    "#          words = words + ' '.join(row[col])+ ' '\n",
    "#     row['Course4_bag_of_words'] = words  \n",
    "\n",
    "menus.drop(['Item_Name','Item_Description'],axis=1,inplace = True)\n",
    "menus"
   ]
  },
  {
   "cell_type": "markdown",
   "metadata": {},
   "source": [
    "# Recommendation Algorithm"
   ]
  },
  {
   "cell_type": "markdown",
   "metadata": {},
   "source": [
    "Count vectorizer is used to convert a collection of text documents to a vector of term/token counts. The reason for not using TF-IDF here because TF-IDF reduces the importance of a word if it occurs frequently.\n",
    "\n",
    "Cosine similarity is a metric used to measure how similar the documents are irrespective of their size. Mathematically, it measures the cosine of the angle between two vectors projected in a multi-dimensional space. \n",
    "\n",
    "Forming a similarity matrix here to get similarity scores."
   ]
  },
  {
   "cell_type": "code",
   "execution_count": 116,
   "metadata": {},
   "outputs": [],
   "source": [
    "# course_1_weight=0.2\n",
    "# course_2_weight=0.3\n",
    "# course_3_weight=0.3\n",
    "# course_4_weight=0.2\n"
   ]
  },
  {
   "cell_type": "code",
   "execution_count": 117,
   "metadata": {},
   "outputs": [],
   "source": [
    "count_CV = CountVectorizer(analyzer='word', ngram_range=(1, 3), min_df=0, stop_words='english')\n",
    "count_matrix_CV_1 = count_CV.fit_transform(menus['Item_bag_of_words']) \n",
    "# count_matrix_CV_2 = count_CV.fit_transform(menus['Course2_bag_of_words'])\n",
    "# count_matrix_CV_3 = count_CV.fit_transform(menus['Course3_bag_of_words'])\n",
    "# count_matrix_CV_4 = count_CV.fit_transform(menus['Course4_bag_of_words'])\n"
   ]
  },
  {
   "cell_type": "code",
   "execution_count": 118,
   "metadata": {},
   "outputs": [],
   "source": [
    "count_IDF = TfidfVectorizer(analyzer='word', ngram_range=(1, 3), min_df=0, stop_words='english')\n",
    "count_matrix_IDF_1 = count_IDF.fit_transform(menus['Item_bag_of_words']) \n",
    "# count_matrix_IDF_2 = count_IDF.fit_transform(menus['Course2_bag_of_words'])\n",
    "# count_matrix_IDF_3 = count_IDF.fit_transform(menus['Course3_bag_of_words'])\n",
    "# count_matrix_IDF_4 = count_IDF.fit_transform(menus['Course4_bag_of_words'])"
   ]
  },
  {
   "cell_type": "code",
   "execution_count": 119,
   "metadata": {
    "scrolled": true
   },
   "outputs": [
    {
     "data": {
      "text/plain": [
       "<bound method Series.items of 0                  Chicken Tenders\n",
       "1       Chicken Caesar Pasta Salad\n",
       "2        Mediterranean Pasta Salad\n",
       "3                  Chicken Dippers\n",
       "4                         Taquitos\n",
       "                   ...            \n",
       "9128        Buffalo Kiddie Fingerz\n",
       "9129               Zax Pak Regular\n",
       "9130                 Zax Pak Large\n",
       "9131       Buffalo Zax Pak Regular\n",
       "9132         Buffalo Zax Pak Large\n",
       "Name: menu_name, Length: 9133, dtype: object>"
      ]
     },
     "execution_count": 119,
     "metadata": {},
     "output_type": "execute_result"
    }
   ],
   "source": [
    "cosine_sim_CV = cosine_similarity(count_matrix_CV_1, count_matrix_CV_1) \n",
    "# cosine_sim_CV_2 = cosine_similarity(count_matrix_CV_2, count_matrix_CV_2)\n",
    "# cosine_sim_CV_3 = cosine_similarity(count_matrix_CV_3, count_matrix_CV_3)\n",
    "# cosine_sim_CV_4 = cosine_similarity(count_matrix_CV_4, count_matrix_CV_4)\n",
    "\n",
    "# cosine_sim_CV = cosine_sim_CV_1 + cosine_sim_CV_2 + cosine_sim_CV_3 + cosine_sim_CV_4\n",
    "indices = pd.Series(menus.index)#making a column a vector\n",
    "indices.items\n",
    "#cosine_sim_CV"
   ]
  },
  {
   "cell_type": "code",
   "execution_count": 120,
   "metadata": {},
   "outputs": [
    {
     "data": {
      "text/plain": [
       "array([[1.        , 0.03691586, 0.02145707, ..., 0.00539941, 0.00497689,\n",
       "        0.0050533 ],\n",
       "       [0.03691586, 1.        , 0.32610409, ..., 0.04594387, 0.01201189,\n",
       "        0.0429988 ],\n",
       "       [0.02145707, 0.32610409, 1.        , ..., 0.04813158, 0.00994488,\n",
       "        0.04504627],\n",
       "       ...,\n",
       "       [0.00539941, 0.04594387, 0.04813158, ..., 1.        , 0.57762339,\n",
       "        0.8948558 ],\n",
       "       [0.00497689, 0.01201189, 0.00994488, ..., 0.57762339, 1.        ,\n",
       "        0.56298418],\n",
       "       [0.0050533 , 0.0429988 , 0.04504627, ..., 0.8948558 , 0.56298418,\n",
       "        1.        ]])"
      ]
     },
     "execution_count": 120,
     "metadata": {},
     "output_type": "execute_result"
    }
   ],
   "source": [
    "cosine_sim_IDF = cosine_similarity(count_matrix_IDF_1, count_matrix_IDF_1) \n",
    "# cosine_sim_IDF_2 = cosine_similarity(count_matrix_IDF_2, count_matrix_IDF_2) \n",
    "# cosine_sim_IDF_3 = cosine_similarity(count_matrix_IDF_3, count_matrix_IDF_3) \n",
    "# cosine_sim_IDF_4 = cosine_similarity(count_matrix_IDF_4, count_matrix_IDF_4) \n",
    "\n",
    "# cosine_sim_IDF = cosine_sim_IDF_1 + cosine_sim_IDF_2 + cosine_sim_IDF_3 + cosine_sim_IDF_4\n",
    "cosine_sim_IDF"
   ]
  },
  {
   "cell_type": "markdown",
   "metadata": {},
   "source": [
    "# Creating a function to return top recommended menu items.\n"
   ]
  },
  {
   "cell_type": "code",
   "execution_count": 121,
   "metadata": {},
   "outputs": [],
   "source": [
    "def recommendations(menu, top, algorithm_type):\n",
    "    # Creating an empty recommended menu list\n",
    "    if algorithm_type=='CountVector':\n",
    "        cosine_sim=cosine_sim_CV\n",
    "    else:\n",
    "        cosine_sim=cosine_sim_IDF\n",
    "    \n",
    "    recommended_menu = []\n",
    "    # gettin the index of provided user menu that matches the menu\n",
    "    idx = indices[indices == menu].index[0]\n",
    "    # creating a Series with the similarity scores in descending order\n",
    "    score_series = pd.Series(cosine_sim[idx]).sort_values(ascending = False)\n",
    "    # getting the indexes of the 3 most similar menu\n",
    "    top_n_indexes = list(score_series.iloc[1:top+1].index)\n",
    "    print('Top '+str(top)+' recommendation for '+menu+'------->')\n",
    "    # populating the list with the titles of the best 3 matching menus\n",
    "    for i in top_n_indexes:\n",
    "        recommended_menu.append(list(menus.index)[i])\n",
    "        \n",
    "    return recommended_menu\n"
   ]
  },
  {
   "cell_type": "markdown",
   "metadata": {},
   "source": [
    "# Testing"
   ]
  },
  {
   "cell_type": "markdown",
   "metadata": {},
   "source": [
    "Test #1 Testing above function with dummy data."
   ]
  },
  {
   "cell_type": "code",
   "execution_count": 122,
   "metadata": {
    "scrolled": true
   },
   "outputs": [
    {
     "name": "stdout",
     "output_type": "stream",
     "text": [
      "Top 5 recommendation for Chicken Dippers------->\n"
     ]
    },
    {
     "data": {
      "text/plain": [
       "['Grilled Chicken Dippers',\n",
       " 'Chicken Tenders',\n",
       " 'Crispy Chicken Dippers',\n",
       " 'Boneless Chicken',\n",
       " 'Asian Chicken']"
      ]
     },
     "execution_count": 122,
     "metadata": {},
     "output_type": "execute_result"
    }
   ],
   "source": [
    "recommendations(menu='Chicken Dippers',top=5,algorithm_type=\"CountVector\")"
   ]
  },
  {
   "cell_type": "code",
   "execution_count": 123,
   "metadata": {},
   "outputs": [
    {
     "name": "stdout",
     "output_type": "stream",
     "text": [
      "Top 5 recommendation for Chicken Dippers------->\n"
     ]
    },
    {
     "data": {
      "text/plain": [
       "['Grilled Chicken Dippers',\n",
       " 'Crispy Chicken Dippers',\n",
       " 'Chicken Tenders',\n",
       " 'Bacon Pancake Dippers Kids',\n",
       " 'Pancake Dippers']"
      ]
     },
     "execution_count": 123,
     "metadata": {},
     "output_type": "execute_result"
    }
   ],
   "source": [
    "recommendations(menu='Chicken Dippers',top=5,algorithm_type=\"IDF\")"
   ]
  },
  {
   "cell_type": "markdown",
   "metadata": {},
   "source": [
    "Test #2 Testing above function with dummy data."
   ]
  },
  {
   "attachments": {
    "image.png": {
     "image/png": "[encoded data removed]"
    }
   },
   "cell_type": "markdown",
   "metadata": {},
   "source": [
    "![image.png](attachment:image.png)"
   ]
  },
  {
   "cell_type": "code",
   "execution_count": null,
   "metadata": {},
   "outputs": [],
   "source": []
  }
 ],
 "metadata": {
  "kernelspec": {
   "display_name": "Python 3",
   "language": "python",
   "name": "python3"
  },
  "language_info": {
   "codemirror_mode": {
    "name": "ipython",
    "version": 3
   },
   "file_extension": ".py",
   "mimetype": "text/x-python",
   "name": "python",
   "nbconvert_exporter": "python",
   "pygments_lexer": "ipython3",
   "version": "3.7.6"
  }
 },
 "nbformat": 4,
 "nbformat_minor": 4
}
